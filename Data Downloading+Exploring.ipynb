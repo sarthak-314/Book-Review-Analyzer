{
  "nbformat": 4,
  "nbformat_minor": 0,
  "metadata": {
    "colab": {
      "name": "Downloading+Exploring.ipynb",
      "provenance": [],
      "collapsed_sections": [],
      "mount_file_id": "1qmoNSGymXdgP5gh3c137IKNW0-ht8Zz6",
      "authorship_tag": "ABX9TyN5bDMICMOH9UxztBill/nO",
      "include_colab_link": true
    },
    "kernelspec": {
      "name": "python3",
      "display_name": "Python 3"
    }
  },
  "cells": [
    {
      "cell_type": "markdown",
      "metadata": {
        "id": "view-in-github",
        "colab_type": "text"
      },
      "source": [
        "<a href=\"https://colab.research.google.com/github/sarthak-314/Book-Review-Analyzer/blob/master/Data%20Downloading%2BExploring.ipynb\" target=\"_parent\"><img src=\"https://colab.research.google.com/assets/colab-badge.svg\" alt=\"Open In Colab\"/></a>"
      ]
    },
    {
      "cell_type": "code",
      "metadata": {
        "id": "dKwsNMECpqDF",
        "colab_type": "code",
        "colab": {
          "base_uri": "https://localhost:8080/",
          "height": 153
        },
        "outputId": "1ac9418c-285b-4971-d5ad-061a208ccab7"
      },
      "source": [
        "# #Download the dataset\n",
        "# !wget http://deepyeti.ucsd.edu/jianmo/amazon/categoryFilesSmall/Books_5.json.gz"
      ],
      "execution_count": null,
      "outputs": [
        {
          "output_type": "stream",
          "text": [
            "--2020-09-03 11:25:01--  http://deepyeti.ucsd.edu/jianmo/amazon/categoryFilesSmall/Books_5.json.gz\n",
            "Resolving deepyeti.ucsd.edu (deepyeti.ucsd.edu)... 169.228.63.50\n",
            "Connecting to deepyeti.ucsd.edu (deepyeti.ucsd.edu)|169.228.63.50|:80... connected.\n",
            "HTTP request sent, awaiting response... 200 OK\n",
            "Length: 7096438325 (6.6G) [application/octet-stream]\n",
            "Saving to: ‘Books_5.json.gz.1’\n",
            "\n",
            "Books_5.json.gz.1     7%[>                   ] 521.83M  42.7MB/s    eta 2m 34s ^C\n"
          ],
          "name": "stdout"
        }
      ]
    },
    {
      "cell_type": "code",
      "metadata": {
        "id": "PRcS1MsgxXJh",
        "colab_type": "code",
        "colab": {}
      },
      "source": [
        "# %cd /content/drive/My\\ Drive/Colab\\ Notebooks/CADABRA/Sentiment\\ Analysis/Amazon"
      ],
      "execution_count": null,
      "outputs": []
    },
    {
      "cell_type": "code",
      "metadata": {
        "id": "nLxpebQApr0g",
        "colab_type": "code",
        "colab": {
          "base_uri": "https://localhost:8080/",
          "height": 71
        },
        "outputId": "a6c4736c-5365-4153-c3d0-dc0b7a0a49d2"
      },
      "source": [
        "# import gzip\n",
        "# import json\n",
        "# data = []\n",
        "# TOTAL_REVIEWS = 3000000\n",
        "# num_reviews = 0\n",
        "# with gzip.open('Books_5.json.gz') as f:\n",
        "#     for l in f:\n",
        "#         data.append(json.loads(l.strip()))\n",
        "#         num_reviews += 1\n",
        "#         if num_reviews > TOTAL_REVIEWS:\n",
        "#             break\n",
        "# # total length of list, this number equals total number of products\n",
        "# print(len(data))\n",
        "\n",
        "# # first row of the list\n",
        "# print(data[0])"
      ],
      "execution_count": null,
      "outputs": [
        {
          "output_type": "stream",
          "text": [
            "3000001\n",
            "{'overall': 5.0, 'verified': False, 'reviewTime': '03 30, 2005', 'reviewerID': 'A1REUF3A1YCPHM', 'asin': '0001713353', 'style': {'Format:': ' Hardcover'}, 'reviewerName': 'TW Ervin II', 'reviewText': \"The King, the Mice and the Cheese by Nancy Gurney is an excellent children's book.  It is one that I well remember from my own childhood and purchased for my daughter who loves it.\\n\\nIt is about a king who has trouble with rude mice eating his cheese. He consults his wise men and they suggest cats to chase away the mice. The cats become a nuisance, so the wise men recommend the king bring in dogs to chase the cats away.  The cycle goes on until the mice are finally brought back to chase away the elephants, brought in to chase away the lions that'd chased away the dogs.\\n\\nThe story ends in compromise and friendship between the mice and the king.  The story also teaches cause and effect relationships.\\n\\nThe pictures that accompany the story are humorous and memorable.  I was thrilled to discover that it is back in print.  I *highly* recommend it for children ages 2 to 7.\", 'summary': 'A story children will love and learn from', 'unixReviewTime': 1112140800}\n"
          ],
          "name": "stdout"
        }
      ]
    },
    {
      "cell_type": "code",
      "metadata": {
        "id": "XgAv1tIlpuaL",
        "colab_type": "code",
        "colab": {
          "base_uri": "https://localhost:8080/",
          "height": 34
        },
        "outputId": "85d67286-3680-4cc2-a7de-142574d8cb15"
      },
      "source": [
        "# # convert list into dataframe\n",
        "# import pandas as pd\n",
        "# df = pd.DataFrame.from_dict(data)\n",
        "\n",
        "# print(len(df))"
      ],
      "execution_count": null,
      "outputs": [
        {
          "output_type": "stream",
          "text": [
            "3000001\n"
          ],
          "name": "stdout"
        }
      ]
    },
    {
      "cell_type": "code",
      "metadata": {
        "id": "VLaxyhzQ_5um",
        "colab_type": "code",
        "colab": {
          "base_uri": "https://localhost:8080/",
          "height": 88
        },
        "outputId": "17ccc309-9463-4e95-8089-d3e0589e9e40"
      },
      "source": [
        "import pandas as pd\n",
        "import matplotlib.pyplot as plt\n",
        "import seaborn as sns\n",
        "\n",
        "%cd /content/drive/My\\ Drive/Colab\\ Notebooks/CADABRA/Sentiment\\ Analysis/Amazon\n",
        "reviews = pd.read_csv('book_reviews.csv')"
      ],
      "execution_count": null,
      "outputs": [
        {
          "output_type": "stream",
          "text": [
            "/content/drive/My Drive/Colab Notebooks/CADABRA/Sentiment Analysis/Amazon\n"
          ],
          "name": "stdout"
        },
        {
          "output_type": "stream",
          "text": [
            "/usr/local/lib/python3.6/dist-packages/IPython/core/interactiveshell.py:2718: DtypeWarning: Columns (10) have mixed types.Specify dtype option on import or set low_memory=False.\n",
            "  interactivity=interactivity, compiler=compiler, result=result)\n"
          ],
          "name": "stderr"
        }
      ]
    },
    {
      "cell_type": "code",
      "metadata": {
        "id": "AxAkA3b1wYxY",
        "colab_type": "code",
        "colab": {
          "base_uri": "https://localhost:8080/",
          "height": 306
        },
        "outputId": "4afd6491-48d7-47b5-d5e4-dc6445d68527"
      },
      "source": [
        "reviews.head()"
      ],
      "execution_count": null,
      "outputs": [
        {
          "output_type": "execute_result",
          "data": {
            "text/html": [
              "<div>\n",
              "<style scoped>\n",
              "    .dataframe tbody tr th:only-of-type {\n",
              "        vertical-align: middle;\n",
              "    }\n",
              "\n",
              "    .dataframe tbody tr th {\n",
              "        vertical-align: top;\n",
              "    }\n",
              "\n",
              "    .dataframe thead th {\n",
              "        text-align: right;\n",
              "    }\n",
              "</style>\n",
              "<table border=\"1\" class=\"dataframe\">\n",
              "  <thead>\n",
              "    <tr style=\"text-align: right;\">\n",
              "      <th></th>\n",
              "      <th>overall</th>\n",
              "      <th>verified</th>\n",
              "      <th>reviewTime</th>\n",
              "      <th>reviewerID</th>\n",
              "      <th>asin</th>\n",
              "      <th>style</th>\n",
              "      <th>reviewerName</th>\n",
              "      <th>reviewText</th>\n",
              "      <th>summary</th>\n",
              "      <th>unixReviewTime</th>\n",
              "      <th>vote</th>\n",
              "      <th>image</th>\n",
              "    </tr>\n",
              "  </thead>\n",
              "  <tbody>\n",
              "    <tr>\n",
              "      <th>0</th>\n",
              "      <td>5.0</td>\n",
              "      <td>False</td>\n",
              "      <td>03 30, 2005</td>\n",
              "      <td>A1REUF3A1YCPHM</td>\n",
              "      <td>0001713353</td>\n",
              "      <td>{'Format:': ' Hardcover'}</td>\n",
              "      <td>TW Ervin II</td>\n",
              "      <td>The King, the Mice and the Cheese by Nancy Gur...</td>\n",
              "      <td>A story children will love and learn from</td>\n",
              "      <td>1112140800</td>\n",
              "      <td>NaN</td>\n",
              "      <td>NaN</td>\n",
              "    </tr>\n",
              "    <tr>\n",
              "      <th>1</th>\n",
              "      <td>5.0</td>\n",
              "      <td>True</td>\n",
              "      <td>06 20, 2016</td>\n",
              "      <td>AVP0HXC9FG790</td>\n",
              "      <td>0001713353</td>\n",
              "      <td>NaN</td>\n",
              "      <td>Amazon Customer</td>\n",
              "      <td>The kids loved it!</td>\n",
              "      <td>Five Stars</td>\n",
              "      <td>1466380800</td>\n",
              "      <td>NaN</td>\n",
              "      <td>NaN</td>\n",
              "    </tr>\n",
              "    <tr>\n",
              "      <th>2</th>\n",
              "      <td>5.0</td>\n",
              "      <td>True</td>\n",
              "      <td>01 24, 2016</td>\n",
              "      <td>A324TTUBKTN73A</td>\n",
              "      <td>0001713353</td>\n",
              "      <td>{'Format:': ' Paperback'}</td>\n",
              "      <td>Tekla Borner</td>\n",
              "      <td>My students (3 &amp; 4 year olds) loved this book!...</td>\n",
              "      <td>Five Stars</td>\n",
              "      <td>1453593600</td>\n",
              "      <td>NaN</td>\n",
              "      <td>NaN</td>\n",
              "    </tr>\n",
              "    <tr>\n",
              "      <th>3</th>\n",
              "      <td>5.0</td>\n",
              "      <td>False</td>\n",
              "      <td>07 9, 2015</td>\n",
              "      <td>A2RE7WG349NV5D</td>\n",
              "      <td>0001713353</td>\n",
              "      <td>{'Format:': ' Paperback'}</td>\n",
              "      <td>Deborah K Woroniecki</td>\n",
              "      <td>LOVE IT</td>\n",
              "      <td>Five Stars</td>\n",
              "      <td>1436400000</td>\n",
              "      <td>NaN</td>\n",
              "      <td>NaN</td>\n",
              "    </tr>\n",
              "    <tr>\n",
              "      <th>4</th>\n",
              "      <td>5.0</td>\n",
              "      <td>True</td>\n",
              "      <td>01 18, 2015</td>\n",
              "      <td>A32B7QIUDQCD0E</td>\n",
              "      <td>0001713353</td>\n",
              "      <td>NaN</td>\n",
              "      <td>E</td>\n",
              "      <td>Great!</td>\n",
              "      <td>Five Stars</td>\n",
              "      <td>1421539200</td>\n",
              "      <td>NaN</td>\n",
              "      <td>NaN</td>\n",
              "    </tr>\n",
              "  </tbody>\n",
              "</table>\n",
              "</div>"
            ],
            "text/plain": [
              "   overall  verified   reviewTime  ... unixReviewTime vote image\n",
              "0      5.0     False  03 30, 2005  ...     1112140800  NaN   NaN\n",
              "1      5.0      True  06 20, 2016  ...     1466380800  NaN   NaN\n",
              "2      5.0      True  01 24, 2016  ...     1453593600  NaN   NaN\n",
              "3      5.0     False   07 9, 2015  ...     1436400000  NaN   NaN\n",
              "4      5.0      True  01 18, 2015  ...     1421539200  NaN   NaN\n",
              "\n",
              "[5 rows x 12 columns]"
            ]
          },
          "metadata": {
            "tags": []
          },
          "execution_count": 5
        }
      ]
    },
    {
      "cell_type": "markdown",
      "metadata": {
        "id": "_Dy06JcCw43w",
        "colab_type": "text"
      },
      "source": [
        "Finally, it works! ;)  Had to go through a lot of trouble to get the dataset"
      ]
    },
    {
      "cell_type": "markdown",
      "metadata": {
        "id": "ule479KHHsvz",
        "colab_type": "text"
      },
      "source": [
        "I only need summary, text and rating for BERT. I can drop the rest "
      ]
    },
    {
      "cell_type": "code",
      "metadata": {
        "id": "gSaCMqbnyF7z",
        "colab_type": "code",
        "colab": {
          "base_uri": "https://localhost:8080/",
          "height": 204
        },
        "outputId": "0db6cb89-a949-4865-fa9b-084fa3f10b9d"
      },
      "source": [
        "reviews = reviews[['summary', 'reviewText', 'overall']]\n",
        "reviews = reviews.rename({'reviewText':'text', 'overall':'rating'}, axis=1)\n",
        "reviews.dropna(inplace=True)\n",
        "reviews.head()"
      ],
      "execution_count": null,
      "outputs": [
        {
          "output_type": "execute_result",
          "data": {
            "text/html": [
              "<div>\n",
              "<style scoped>\n",
              "    .dataframe tbody tr th:only-of-type {\n",
              "        vertical-align: middle;\n",
              "    }\n",
              "\n",
              "    .dataframe tbody tr th {\n",
              "        vertical-align: top;\n",
              "    }\n",
              "\n",
              "    .dataframe thead th {\n",
              "        text-align: right;\n",
              "    }\n",
              "</style>\n",
              "<table border=\"1\" class=\"dataframe\">\n",
              "  <thead>\n",
              "    <tr style=\"text-align: right;\">\n",
              "      <th></th>\n",
              "      <th>summary</th>\n",
              "      <th>text</th>\n",
              "      <th>rating</th>\n",
              "    </tr>\n",
              "  </thead>\n",
              "  <tbody>\n",
              "    <tr>\n",
              "      <th>0</th>\n",
              "      <td>A story children will love and learn from</td>\n",
              "      <td>The King, the Mice and the Cheese by Nancy Gur...</td>\n",
              "      <td>5.0</td>\n",
              "    </tr>\n",
              "    <tr>\n",
              "      <th>1</th>\n",
              "      <td>Five Stars</td>\n",
              "      <td>The kids loved it!</td>\n",
              "      <td>5.0</td>\n",
              "    </tr>\n",
              "    <tr>\n",
              "      <th>2</th>\n",
              "      <td>Five Stars</td>\n",
              "      <td>My students (3 &amp; 4 year olds) loved this book!...</td>\n",
              "      <td>5.0</td>\n",
              "    </tr>\n",
              "    <tr>\n",
              "      <th>3</th>\n",
              "      <td>Five Stars</td>\n",
              "      <td>LOVE IT</td>\n",
              "      <td>5.0</td>\n",
              "    </tr>\n",
              "    <tr>\n",
              "      <th>4</th>\n",
              "      <td>Five Stars</td>\n",
              "      <td>Great!</td>\n",
              "      <td>5.0</td>\n",
              "    </tr>\n",
              "  </tbody>\n",
              "</table>\n",
              "</div>"
            ],
            "text/plain": [
              "                                     summary  ... rating\n",
              "0  A story children will love and learn from  ...    5.0\n",
              "1                                 Five Stars  ...    5.0\n",
              "2                                 Five Stars  ...    5.0\n",
              "3                                 Five Stars  ...    5.0\n",
              "4                                 Five Stars  ...    5.0\n",
              "\n",
              "[5 rows x 3 columns]"
            ]
          },
          "metadata": {
            "tags": []
          },
          "execution_count": 18
        }
      ]
    },
    {
      "cell_type": "code",
      "metadata": {
        "id": "ddhcav5pIEKF",
        "colab_type": "code",
        "colab": {
          "base_uri": "https://localhost:8080/",
          "height": 119
        },
        "outputId": "25d3be87-5b09-4d9b-c093-30c432e610c2"
      },
      "source": [
        "reviews.rating.value_counts()"
      ],
      "execution_count": null,
      "outputs": [
        {
          "output_type": "execute_result",
          "data": {
            "text/plain": [
              "5.0    1799627\n",
              "4.0     660601\n",
              "3.0     296477\n",
              "2.0     134051\n",
              "1.0     108523\n",
              "Name: rating, dtype: int64"
            ]
          },
          "metadata": {
            "tags": []
          },
          "execution_count": 3
        }
      ]
    },
    {
      "cell_type": "markdown",
      "metadata": {
        "id": "XFIsr9IEszv2",
        "colab_type": "text"
      },
      "source": [
        "## **Exploratory Data Analysis** "
      ]
    },
    {
      "cell_type": "markdown",
      "metadata": {
        "id": "c9ht11orsyDZ",
        "colab_type": "text"
      },
      "source": [
        "5 random 5 star review"
      ]
    },
    {
      "cell_type": "code",
      "metadata": {
        "id": "9htINAE0sdYI",
        "colab_type": "code",
        "colab": {
          "base_uri": "https://localhost:8080/",
          "height": 462
        },
        "outputId": "c9021119-9263-46ad-f0b8-22903a5d9533"
      },
      "source": [
        "five_star = reviews[reviews.rating==5].sample(5).text.values\n",
        "for f in five_star:\n",
        "    print(f)"
      ],
      "execution_count": null,
      "outputs": [
        {
          "output_type": "stream",
          "text": [
            "Just got it in the post...great price, timely delivery, if it's anything like Jonathon Livingston Seagull, Illusions, or Hypnotizing Maria, can't imagine that I won't love it!\n",
            "I will never in my whole life forget this book. In this book you will laugh and cry,you will hope and dream,you will appreciate life. This book is a wonder.\n",
            "This was one of the better books by this author - good plot idea, great pacing and steam scenes, realistic relationships and characterization, just really well-done in almost every respect. (And kudos, again, to the author for not using the overdone jealousy theme so prevalent in the original series.) The only thing that could've made it better was extending the ending a little more (it was a too abrupt), or providing an epilogue to provide more closure for Mencheres and Kira. It wasn't enough to take away a star, though. Well done - looking forward to the next one! :)\n",
            "I've read all of the Sigma Force novels and can't wait for the next installment. Rollins is a major history buff, and all of his Sigma novels have a ton of historical references, and each novel has an epilogue that tells the reader what is fact and what is fiction......I am a major Rollins fan, but the Sigma books are my favorite......keep them coming!!!!!\n",
            "There are just some books that just strike you, that you just love so much more than others - for some reason they capture you, hold your interest, you become so wrapped up in the beautiful world that has been created that you forget yourself, if even for a minute...\n",
            "\n",
            "With in the pages of Jessica's Guide to Dating on the Dark Side, I lost myself with in the beautiful prose, the amazingly rich characters and the expansive plot twists and turns. Jessica's Guide to Dating on the Dark Side, honestly surprised me, I was NOT at all prepared for the expansive beauty that lied within.\n",
            "\n",
            "After reading the synopsis, honestly - I was thinking this was going to be a cute and fun book about a young girl, finding out she's a vampire and the almost \"silly\" book Growing Up Undead: A Teen Vampire's Guide to Dating...boy was I so very wrong!\n",
            "\n",
            "Right now, I am actually finding it hard to even write a coherent review, it's especially hard trying to do it with out all the traditional \"fan girl\" words like, beautiful, amazing, stunning...\n",
            "\n",
            "I am not sure I even CAN - for me this book was, beautiful, amazing, stunning -\n",
            "\n",
            "Beauty brought to life with rich, dynamic characters; Intertwined with the totally original plot line and the unique twists and turns; Stunning in the way that Beth Fantaskey has created a world, I literally felt like I had just dropped into, like I forgot who I was for the nearly 12 hours it took me to finish (sleep won out, but not by much) this book.\n",
            "\n",
            "Jessica's Guide to Dating on the Dark Side, at it's very core is a love story. Though with in the pages, I laughed at the satire; I cried with Jessica as she started uncovering more and more of the dark secrets surrounding what she thought was her typical life only to find out...she is far from typical, as well as with Lucius as he grappled with himself, always trying to do the right thing, and often times struggling with exactly what that means; I also nearly threw the book across the room, so mad I could nearly spit nails...\n",
            "\n",
            "It's books like this, with stories that almost leap off the page that keep me coming back time and time again to the book store, it's stories like this...that now having read I am happy to report is one of the best books I have ever read. I can tell you if you have not picked up Jessica's Guide - it's a must read, one that I will be telling all my friends about...if you love a good paranormal love story, this one is GOLDEN!!!\n",
            "\n",
            "Though I keep many beloved books, Jessica's Guide to Dating on the Dark Side is one of just 3 others that will be placed above my computer, as one of my all time beloved, it's a place of \"honor\" so that I can see it each day and remember the beautiful world that Beth Fantaskey has created. Though the story ending in a satisfying beautiful way, I have read on Beth's blog that there will be another book to this series, and I can not WAIT to read more about Jessica (though I hope, she's no longer holding true to that name in the next book, sorry I can't comment more on that one...just read the book!) as well as Lucius. There are still many questions I have about this world, and I am excited we get to learn more!\n",
            "\n",
            "I am also REALLY looking forward to Jekel Loves Hyde, Beth Fantaskey has solidified herself in my world as a favorite, and I will be banging down the book store doors to get anything new she publishes!\n",
            "\n",
            "Bottom Line - This novel though about a vampire, is exceedingly unique, it's dynamic characters offer such beautiful, realism, that you nearly forget your lost in a made up world. I enjoyed it more than this review can even express! Like I said I will be sure to buy any and all books that Beth Fantaskey shares with us.\n"
          ],
          "name": "stdout"
        }
      ]
    },
    {
      "cell_type": "markdown",
      "metadata": {
        "id": "85IV1FHwt8aG",
        "colab_type": "text"
      },
      "source": [
        "5 random 1 star reviews"
      ]
    },
    {
      "cell_type": "code",
      "metadata": {
        "id": "1d-FIwChsdhh",
        "colab_type": "code",
        "colab": {
          "base_uri": "https://localhost:8080/",
          "height": 1000
        },
        "outputId": "d88cd14e-0b9c-4af4-d13d-48ebf7d4c487"
      },
      "source": [
        "one_star = reviews[reviews.rating==1].sample(5).text.values\n",
        "for f in one_star:\n",
        "    print(f)"
      ],
      "execution_count": null,
      "outputs": [
        {
          "output_type": "stream",
          "text": [
            "Truly one of the worst books I've ever read. The plot was completely implausible, the writing was so simple, hurried, and at times laughable. None of the characters were likesble. I'm\n",
            "mad at myself for wasting my time reading it.\n",
            "Warning: There may be some Spoilers of war ahead. Stop reading now if you wish to remain Unsullied!\n",
            "\n",
            "I misliked this book. Mayhaps I just misunderstood it. Or mayhaps it is just some cruel jape inflicted upon humanity by some craven god. Here is what happened:\n",
            "\n",
            "I awoke at dawn. To break my fast, I dined on goose eggs infused with Tyroshian peppers, wild boar bacon, and a heel of black bread with honey,  along with a bowl of lard. I had some ale to wash it down. I wore a crushed velvet doublet with black lacings, along with my finest woolen breeches , dyed blue. On my shoulder I wore a half-cape made of cloth of gold interwoven with bluejay feathers.  A silk ascot upon my neck - patterned in pink paisley - completed the ensemble.\n",
            "\n",
            "I sat at my desk in the library. A fine fire was stoked in the fireplace. Above it hung a shield, and upon it in green and blue was painted a pregnant turtle laying eggs upon a beach, the sigil of my House.\n",
            "\n",
            "I summoned my Maester, whose name in the common tongue translates as \"Maester T\". He appeared at once. He had the dark skin of a Summer Islander, with layers and layers of gold chains around his neck. He wore his hair in the fashion of the mohawk, which my lady wife finds irresistible. Which reminds me, I wonder why our kids were born with those.\n",
            "\n",
            " \"Hey sucka!\" he said.\n",
            "\n",
            "\"You should call me Lord,\" I replied.\n",
            "\n",
            "\"Quit your Jibber jabber. What do you want, fool?\"\n",
            "\n",
            "I asked him to lend me the tome, \"A Feast for Crows.\"\n",
            "\n",
            "\"A Feast for Crows? You don't want to read that. I pity the fool who reads that!\"\n",
            "\n",
            "Nonetheless, I insisted.\n",
            "\n",
            "He snorted, and shook his head. \"I ain't getting on no plane, Hannibal!\" Even so, he brought me the book.\n",
            "\n",
            "I started reading.\n",
            "\n",
            "After some time, I looked up. I was in great distress. A good deal of time had passed, which I could not seem to recall. Apparently, I had been in fugue state.\n",
            "\n",
            "To my alarm, I found that I was covered in blood. The book had wounded me. I called for help, and was given boiled wine which I poured all over my gaping chest wound. That helped. Afterwards, I had some dreamwine mixed with milk of the poppy. All better now.\n",
            "\n",
            "I wrote a letter, and put it on a raven with strict instructions to only fly straight to my friend's house. No stopping to peck the flesh off of decapitated heads or anything like that. The raven \"quorked\", and flew away. I took that as a \"yes\".\n",
            "\n",
            "For lunch I dined on cod baked in a crust of herbs and crushed clam shells. I had asparagus basted with pan-fried crickets, along with some headcheese spread on dried kale chips. I had lemon cakes and prunes for desert. For my drink, I chose a fine Bravosi mead.\n",
            "\n",
            "After my bath, I shrugged into a thin silken shift. Over that I wore a beautiful wine-colored gown from the Arbor, with a low-cut bodice trimmed with Myrish lace. My sleeves were long and dagged, coated in river pearls with alternating patterns of onyx.\n",
            "\n",
            "I visited my local Sept. Where I spoke to my Septon. It was in September.\n",
            "\n",
            "\"Good Septon,\" said I. \"What is up with this crummy book? The plot is meandering and pointless. And none of the main characters we've come to know are in it, except for a few cameo appearances where they do nothing. No Tyrion, no Dany, no Davos-\"\n",
            "\n",
            " \"Who?\"\n",
            "\n",
            "\"Davos. Remember, the Onion Knight? Davos? There was like, nearly a third of an entire book devoted to him.\"\n",
            "\n",
            "The septon looked confused. \"Never heard of him. Oh wait- Yeah, he died.\"\n",
            "\n",
            "\"Huh? When did this happen?\"\n",
            "\n",
            "\"Doesn't matter. It happened. Get over it.\"\n",
            "\n",
            "\"But he was a main character. He-\"\n",
            "\n",
            "The man stuck his fingers in his ears. \"I'm not listening. La-la-la-la-la-la...\"\n",
            "\n",
            "I grunted. \"Okay. What about Theon then? Remember him?\"\n",
            "\n",
            "\"Nope. But I do remember a bunch of other minor, unremarkable, and unlikeable characters, both on the Iron Islands and Dorne!\" The man smiled and nodded. \"Yes! I seem to remember we get to read about those peole. A LOT. That and a lot of other plots we don't care about.\"\n",
            "\n",
            "I sighed. \"It seems a bit sad to me when the best part of the book seems to be the endless `mean girl' scheming of Cersei. Beyond that, we have Jaime the Good Guy. Brienne the Brave.\"\n",
            "\n",
            "\"And don't forget, the author also brings back a character from the dead  who is so boring that most of us were actually pretty happy to see die in the first place.\"\n",
            "\n",
            "\"Your'e not helping.\"\n",
            "\n",
            "The man shrugged.\n",
            "\n",
            "\"It bothers me that entire chapters of this book can be skipped, and it does nothing to hurt the overall story. If there even is an overall story anymore...  Also, the writing is quite distracting. With a trashy sex scene with Cersei, and a rising focus on breasts, with repeated mentions of `nipples', `tits', `teats', and `dugs'.\"\n",
            "\n",
            "\"Oh yes! Indeed, I do dig me a good dug!\"\n",
            "\n",
            "I shook my head glumly. \"What the heck happened?\"\n",
            "\n",
            "\"Valar Martinus\", he replied. \"All Good Writing must die.\"\n",
            "\n",
            "\"Hey, what are you doing speaking High Valyrian?\" I asked. \"You're not from Bravos.\"\n",
            "\n",
            "\"Yo, I'm not from Bravos. I'm from Flea Bottom. That's Low Valyrian, dog.\"\n",
            "\n",
            "\"Oh.\" I frowned. \"Valar Martinus?\"\n",
            "\n",
            "He bowed. \"Valar GeorgeRRus.\"\n",
            "\n",
            "I took my leave of the man. Back in my tower, sweet rushes had been scattered upon the floor. I took out my weapon, \"Nailbiter\". The sword has been in our family for generations. But apparently I won't be needing it so long as I read this book. I turned the blade, and looked upon its ripples. Valyrian Steel. Which has ripples in it. Not to be confused with non-Valyrian steel, which doesn't. This is not really important to the rest of my story, so you can forget about it now.\n",
            "\n",
            "After my nap, for supper I dined on chunks of roast goat marinated in whale sperm. I also had mashed onions with raisins, curried dog balls, and a honey-glazed beef sausage. For drink I had a fine Dornish wine along with some iced milk. The ice didn't seem quite right though. My ice machine must be screwing up. I must send to the Wall for another.\n",
            "\n",
            "I wore a fine robe patterned with red and orange velvet streamers. My pantaloons were striped in green and black. I wore a cape covered in peacock feathers. My beard had been forked, and dyed purple. I wore my finest gold tooth, to attract the ladies.\n",
            "\n",
            "At evening, the raven finally returned. My raven service was very slow that day, but what can you do? AT&T. Go figure.\n",
            "\n",
            "The message I had received was from my BFF, Ser Ginger Redhair, of House Redhair. He also two brothers: Gieger and Goreshnekov. The three of them grew up in the fair hair lands, those of black, brown, blonde, and red. When they were young their father told them to go out into the world and make a man out of themselves. So one built a house out of straw, one out of sticks, and one out of brick. After some nasty business with a dire wolf, their father let them come home again. And now that I have told you his entire family history, plus backstory and motivation, let us never mention his name again. (Unless demand is low enough, in which case I may devote an entire novel to him.)\n",
            "\n",
            "I uncurled the scrap of paper from the bird's leg. It was red at the bottom, soaked in blood. Darn it, I told that bird not to stop to feast on carrion! I gave him a dirty look, but he only \"quorked\".\n",
            "\n",
            "The message from my friend was simple:\n",
            "\n",
            "\"Yep. Jumping the shark. Saw the ramp coming in Book 3.\"\n",
            "\n",
            "I sat back and sighed. Indeed, this book did not even feel like a book. Just a collection of disjointed novellas, going nowhere. It had no kind of resolution at all. Not even a Deus ex Machina, like we were treated to at the end of Book 3 with Stannis - out of nowhere - suddenly deciding to go to the wall.\n",
            "\n",
            "I can only conclude that this book should have been called \"A Feast for Snows\". Because only a baseborn Snow could appreciate it. And that's what all you reviewers giving this book 5 stars are, just a bunch of Snows! With a few Rivers, Flowers, Sands, and Stones thrown in.\n",
            "\n",
            "But alas, the hour grows late. My wife is now summoning me. She is complaining that I stay up reading too late every night. That I never tend to her \"Myrish Swamp\". I have no idea what she means by that.\n",
            "\n",
            "Will I continue the next book? Should I? That my friends, is the question.\n",
            "\n",
            "Valar Martinus.\n",
            "Many reviewers have already commented on the MANY weaknesses of this final installment. I will thetefore attempt to sum up my critique briefly and without spoilers.\n",
            "\n",
            "1) I loved the first 2 books, this one under delivers, and feels like it shouldn't even be part of the series. The author just abandons major story lines and has them occur off page, then throws new plot lines at us that we don't care about and in which we have not invested 2 books.\n",
            "2) I will willingly suspend my disbelief to fall into a new world/mythology. However, the \"answers\" provided in this conclusion volume were lazy and stupid. Just because you made up the world doesn't mean you can throw whatever completely implausible reasoning at your readers and have us accept it as part of the universe. For example, you could tell me that a nuclear war made the planet uninhabitable, so we had to go to space. You don't get to say, we're in space, therefore everything you know of human nature has completely changed because... ummmm... because... I say so.\n",
            "3) The writing was poor. I have slightly lower standards for YA writing, but we've seen great examples of the form in recent years. Even the first two books were great stories. This is not that. The author's decision to use dual first person narratives was inorganic and poorly differentiated. I couldn't tell when Tris was talking or when it was Tobias because they have the exact same voice.\n",
            "4) The characters behaved in uncharacteristic ways so that the author could manufacture situations that otherwise made no sense. Again, inorganic and lazy.\n",
            "\n",
            "Basically, I wish I'd never begun reading the series because the final installment is so disappointing, I feel like I wasted my time in the first two books (which I enjoyed) because now I know the last part of the story is silly and poorly done. There are other additional reasons, but I didn't want to use spoilers. However the 1 star reviews that contain spoilers do a great job of articulating those other reasons. Someone should have caught this and forced a second and possibly many more drafts. Incredibly disappointing.\n",
            "I thought \"Water for Elephants\" was a fine book so, even after reading the less than glowing reviews here, I decided to read \"Riding Lessons.\" It was about horses and the Kindle Edition was only $2.99, so why not? I couldn't believe someone who wrote something as good as \"Water for Elephants\" could write something as--well, not good--as \"Riding Lessons.\"\n",
            "\n",
            "Unfortunately, I have to agree that the main character, Annemarie Zimmer, is so annoying that halfway through the book I was rather hoping she would fall on her head again and save everyone a lot of grief. In fact, there really wasn't really a likable character in the whole book, except perhaps veterinarian Dan, but he's kind of a wimp, and the Dressage trainer, who is a nice enough guy but why is he even in the story? I think he was supposed to provide some sexual tension (after all, he's French!), but it didn't really work. I actually felt some sympathy for Annemarie's husband, Roger, for enduring 20 years of marriage to this basket case.\n",
            "\n",
            "Sara Gruen has proven that she can craft a very good book, and I'll be interested to see what else she publishes in the future, but I think I will pass on the next Annemarie Zimmer installment.\n",
            "I'm a huge fan of \"To Kill a Mockingbird\". I was very excited to hear of Ms. Lee's new release. Unfortunately it did not live up to my expectations. I know many have said they enjoyed the book and were able to delve into the whole debate of whether this was a rough draft for Mockingbird. I will remain a fan of Ms. Lee's but this book was not for me.\n"
          ],
          "name": "stdout"
        }
      ]
    },
    {
      "cell_type": "markdown",
      "metadata": {
        "id": "5DzNSW9kue89",
        "colab_type": "text"
      },
      "source": [
        "Distribution of review ratings"
      ]
    },
    {
      "cell_type": "code",
      "metadata": {
        "id": "r2UbCqJOsdfz",
        "colab_type": "code",
        "colab": {
          "base_uri": "https://localhost:8080/",
          "height": 290
        },
        "outputId": "fb51a173-2234-4fc0-df64-08ff5d8dd927"
      },
      "source": [
        "_ = sns.countplot(reviews.rating, palette='Set2')"
      ],
      "execution_count": null,
      "outputs": [
        {
          "output_type": "display_data",
          "data": {
            "image/png": "[encoded data removed]",
            "text/plain": [
              "<Figure size 432x288 with 1 Axes>"
            ]
          },
          "metadata": {
            "tags": [],
            "needs_background": "light"
          }
        }
      ]
    },
    {
      "cell_type": "markdown",
      "metadata": {
        "id": "GZbQXHZJu7EQ",
        "colab_type": "text"
      },
      "source": [
        "Review text length distribution"
      ]
    },
    {
      "cell_type": "code",
      "metadata": {
        "id": "bGpSIuwlsddI",
        "colab_type": "code",
        "colab": {
          "base_uri": "https://localhost:8080/",
          "height": 289
        },
        "outputId": "37c2f554-66fe-40da-c502-2d9d06c007e0"
      },
      "source": [
        "plt.figure(figsize=(25, 5))\n",
        "_ = sns.distplot(reviews.text.apply(len))"
      ],
      "execution_count": null,
      "outputs": [
        {
          "output_type": "display_data",
          "data": {
            "image/png": "[encoded data removed]",
            "text/plain": [
              "<Figure size 1800x360 with 1 Axes>"
            ]
          },
          "metadata": {
            "tags": [],
            "needs_background": "light"
          }
        }
      ]
    },
    {
      "cell_type": "code",
      "metadata": {
        "id": "UslhmIWevTLj",
        "colab_type": "code",
        "colab": {
          "base_uri": "https://localhost:8080/",
          "height": 170
        },
        "outputId": "5645963e-22d2-4ddc-96a5-62cfae83bd0c"
      },
      "source": [
        "reviews.text.apply(len).describe()"
      ],
      "execution_count": null,
      "outputs": [
        {
          "output_type": "execute_result",
          "data": {
            "text/plain": [
              "count    2.999279e+06\n",
              "mean     5.935970e+02\n",
              "std      9.716173e+02\n",
              "min      1.000000e+00\n",
              "25%      1.130000e+02\n",
              "50%      2.310000e+02\n",
              "75%      6.540000e+02\n",
              "max      3.403100e+04\n",
              "Name: text, dtype: float64"
            ]
          },
          "metadata": {
            "tags": []
          },
          "execution_count": 36
        }
      ]
    },
    {
      "cell_type": "markdown",
      "metadata": {
        "id": "Er9sUjK4vcMH",
        "colab_type": "text"
      },
      "source": [
        "An average review has a length of 593 words with maximum review length stretching upto 34K words!\n"
      ]
    },
    {
      "cell_type": "code",
      "metadata": {
        "id": "-Y9Vhh1fsdVP",
        "colab_type": "code",
        "colab": {}
      },
      "source": [
        "from sklearn.feature_extraction.text import CountVectorizer\n",
        "def get_top_n_words(corpus, n, stop_words=None):\n",
        "    vec = CountVectorizer(stop_words=stop_words).fit(corpus)\n",
        "    bag_of_words = vec.transform(corpus)\n",
        "    sum_words = bag_of_words.sum(axis=0) \n",
        "    words_freq = [(word, sum_words[0, idx]) for word, idx in vec.vocabulary_.items()]\n",
        "    words_freq =sorted(words_freq, key = lambda x: x[1], reverse=True)\n",
        "    return words_freq[:n]\n"
      ],
      "execution_count": null,
      "outputs": []
    },
    {
      "cell_type": "code",
      "metadata": {
        "id": "842-jr9xyuiy",
        "colab_type": "code",
        "colab": {}
      },
      "source": [
        ""
      ],
      "execution_count": null,
      "outputs": []
    },
    {
      "cell_type": "markdown",
      "metadata": {
        "id": "yuoTSnhLywqg",
        "colab_type": "text"
      },
      "source": [
        "**Top words before removing stopwords**"
      ]
    },
    {
      "cell_type": "code",
      "metadata": {
        "id": "hwZcIg_xytfZ",
        "colab_type": "code",
        "colab": {
          "base_uri": "https://localhost:8080/",
          "height": 279
        },
        "outputId": "dd65c885-ff1d-492f-f9b7-4e9f678a2daa"
      },
      "source": [
        "#TODO: Remove .head() after reviews\n",
        "common_words = get_top_n_words(reviews.head().text, 20)\n",
        "df = pd.DataFrame(common_words, columns = ['text' , 'count'])\n",
        "df_plot = df.groupby('text').sum()['count'].sort_values(ascending=False).reset_index()\n",
        "plt.figure(figsize=(20, 4))\n",
        "_ = sns.barplot(x='text', y='count', data=df_plot)"
      ],
      "execution_count": null,
      "outputs": [
        {
          "output_type": "display_data",
          "data": {
            "image/png": "[encoded data removed]",
            "text/plain": [
              "<Figure size 1440x288 with 1 Axes>"
            ]
          },
          "metadata": {
            "tags": [],
            "needs_background": "light"
          }
        }
      ]
    },
    {
      "cell_type": "code",
      "metadata": {
        "id": "QFgamsbm3HNh",
        "colab_type": "code",
        "colab": {
          "base_uri": "https://localhost:8080/",
          "height": 219
        },
        "outputId": "78c755a0-90a0-4788-ce15-94454164df6f"
      },
      "source": [
        "from wordcloud import WordCloud\n",
        "wordcloud = WordCloud().generate(str(common_words))\n",
        "_ = plt.imshow(wordcloud)"
      ],
      "execution_count": null,
      "outputs": [
        {
          "output_type": "display_data",
          "data": {
            "image/png": "[encoded data removed]",
            "text/plain": [
              "<Figure size 432x288 with 1 Axes>"
            ]
          },
          "metadata": {
            "tags": [],
            "needs_background": "light"
          }
        }
      ]
    },
    {
      "cell_type": "markdown",
      "metadata": {
        "id": "GjUnAaNgy2f9",
        "colab_type": "text"
      },
      "source": [
        "**Top words. after removing stopwords**"
      ]
    },
    {
      "cell_type": "code",
      "metadata": {
        "id": "MEmYWgqpsdS0",
        "colab_type": "code",
        "colab": {
          "base_uri": "https://localhost:8080/",
          "height": 279
        },
        "outputId": "e6251dd5-3f5e-48c1-a83d-2e86029f6c95"
      },
      "source": [
        "#TODO: Remove .head() after reviews\n",
        "common_words = get_top_n_words(reviews.head().text, 20, stop_words='english')\n",
        "df = pd.DataFrame(common_words, columns = ['text' , 'count'])\n",
        "df_plot = df.groupby('text').sum()['count'].sort_values(ascending=False).reset_index()\n",
        "plt.figure(figsize=(20, 4))\n",
        "_ = sns.barplot(x='text', y='count', data=df_plot)"
      ],
      "execution_count": null,
      "outputs": [
        {
          "output_type": "display_data",
          "data": {
            "image/png": "[encoded data removed]",
            "text/plain": [
              "<Figure size 1440x288 with 1 Axes>"
            ]
          },
          "metadata": {
            "tags": [],
            "needs_background": "light"
          }
        }
      ]
    },
    {
      "cell_type": "code",
      "metadata": {
        "id": "F2D9HpQ5uKZc",
        "colab_type": "code",
        "colab": {
          "base_uri": "https://localhost:8080/",
          "height": 219
        },
        "outputId": "bf0d2d6d-03fc-424c-e19a-4dcf9ee0e530"
      },
      "source": [
        "from wordcloud import WordCloud\n",
        "wordcloud = WordCloud().generate(str(common_words))\n",
        "_ = plt.imshow(wordcloud)"
      ],
      "execution_count": null,
      "outputs": [
        {
          "output_type": "display_data",
          "data": {
            "image/png": "[encoded data removed]",
            "text/plain": [
              "<Figure size 432x288 with 1 Axes>"
            ]
          },
          "metadata": {
            "tags": [],
            "needs_background": "light"
          }
        }
      ]
    },
    {
      "cell_type": "markdown",
      "metadata": {
        "id": "Y1hXQps63zcQ",
        "colab_type": "text"
      },
      "source": [
        "##**Data Cleaning**: Stratifying the data"
      ]
    },
    {
      "cell_type": "markdown",
      "metadata": {
        "id": "LtC-vYSToy3W",
        "colab_type": "text"
      },
      "source": [
        "todo: why stratify data?\n"
      ]
    },
    {
      "cell_type": "code",
      "metadata": {
        "id": "_n8fEs2BIQW6",
        "colab_type": "code",
        "colab": {
          "base_uri": "https://localhost:8080/",
          "height": 204
        },
        "outputId": "42406614-25f1-4640-88de-b8f0939c8246"
      },
      "source": [
        "NUM_REVIEWS_PER_RATING = 100000\n",
        "sampled_review = reviews.groupby('rating', group_keys=False).apply(lambda x : x.sample(min(len(x), NUM_REVIEWS_PER_RATING)))\n",
        "shuffled_review = sampled_review.sample(frac=1).reset_index(drop=True)\n",
        "reviews = shuffled_review\n",
        "reviews.head()"
      ],
      "execution_count": null,
      "outputs": [
        {
          "output_type": "execute_result",
          "data": {
            "text/html": [
              "<div>\n",
              "<style scoped>\n",
              "    .dataframe tbody tr th:only-of-type {\n",
              "        vertical-align: middle;\n",
              "    }\n",
              "\n",
              "    .dataframe tbody tr th {\n",
              "        vertical-align: top;\n",
              "    }\n",
              "\n",
              "    .dataframe thead th {\n",
              "        text-align: right;\n",
              "    }\n",
              "</style>\n",
              "<table border=\"1\" class=\"dataframe\">\n",
              "  <thead>\n",
              "    <tr style=\"text-align: right;\">\n",
              "      <th></th>\n",
              "      <th>summary</th>\n",
              "      <th>text</th>\n",
              "      <th>rating</th>\n",
              "    </tr>\n",
              "  </thead>\n",
              "  <tbody>\n",
              "    <tr>\n",
              "      <th>0</th>\n",
              "      <td>NOTHING PRACTICAL</td>\n",
              "      <td>doesn't really give any real practical advice....</td>\n",
              "      <td>1.0</td>\n",
              "    </tr>\n",
              "    <tr>\n",
              "      <th>1</th>\n",
              "      <td>Narcissists commit adultery and I just couldn'...</td>\n",
              "      <td>James Salter is a terrific writer. But after p...</td>\n",
              "      <td>2.0</td>\n",
              "    </tr>\n",
              "    <tr>\n",
              "      <th>2</th>\n",
              "      <td>Very disappointing</td>\n",
              "      <td>This book will apply a bible verse to every ex...</td>\n",
              "      <td>1.0</td>\n",
              "    </tr>\n",
              "    <tr>\n",
              "      <th>3</th>\n",
              "      <td>A Great Read!</td>\n",
              "      <td>As usual, Diane Mott Davidson has written a no...</td>\n",
              "      <td>5.0</td>\n",
              "    </tr>\n",
              "    <tr>\n",
              "      <th>4</th>\n",
              "      <td>love!!!</td>\n",
              "      <td>My kids LOVE these little book packs!</td>\n",
              "      <td>5.0</td>\n",
              "    </tr>\n",
              "  </tbody>\n",
              "</table>\n",
              "</div>"
            ],
            "text/plain": [
              "                                             summary  ... rating\n",
              "0                                  NOTHING PRACTICAL  ...    1.0\n",
              "1  Narcissists commit adultery and I just couldn'...  ...    2.0\n",
              "2                                 Very disappointing  ...    1.0\n",
              "3                                      A Great Read!  ...    5.0\n",
              "4                                            love!!!  ...    5.0\n",
              "\n",
              "[5 rows x 3 columns]"
            ]
          },
          "metadata": {
            "tags": []
          },
          "execution_count": 6
        }
      ]
    },
    {
      "cell_type": "code",
      "metadata": {
        "id": "mrBc0pdnIqbs",
        "colab_type": "code",
        "colab": {
          "base_uri": "https://localhost:8080/",
          "height": 119
        },
        "outputId": "957333e3-4b7f-45aa-f516-b5c754333d8d"
      },
      "source": [
        "reviews.rating.value_counts()"
      ],
      "execution_count": null,
      "outputs": [
        {
          "output_type": "execute_result",
          "data": {
            "text/plain": [
              "3.0    100000\n",
              "5.0    100000\n",
              "4.0    100000\n",
              "2.0    100000\n",
              "1.0    100000\n",
              "Name: rating, dtype: int64"
            ]
          },
          "metadata": {
            "tags": []
          },
          "execution_count": 7
        }
      ]
    },
    {
      "cell_type": "markdown",
      "metadata": {
        "id": "v048iQA6o21C",
        "colab_type": "text"
      },
      "source": [
        "Now all the ratings have equal counts. Clean?"
      ]
    },
    {
      "cell_type": "code",
      "metadata": {
        "id": "zWqtqY0losvH",
        "colab_type": "code",
        "colab": {}
      },
      "source": [
        "reviews.to_csv('cleaned_reviews.csv', index=False)"
      ],
      "execution_count": null,
      "outputs": []
    },
    {
      "cell_type": "code",
      "metadata": {
        "id": "KjqEN95iqhkz",
        "colab_type": "code",
        "colab": {}
      },
      "source": [
        "#TODO: Make the top medium image of the projects actual project image, data has a better idea just before data section"
      ],
      "execution_count": null,
      "outputs": []
    }
  ]
}